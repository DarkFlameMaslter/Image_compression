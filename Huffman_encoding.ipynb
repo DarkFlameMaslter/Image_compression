{
 "cells": [
  {
   "cell_type": "code",
   "execution_count": 15,
   "id": "fc2789d2",
   "metadata": {},
   "outputs": [],
   "source": [
    "import numpy as np\n",
    "import math as m"
   ]
  },
  {
   "cell_type": "code",
   "execution_count": 4,
   "id": "43fb1846",
   "metadata": {},
   "outputs": [],
   "source": [
    "import random\n",
    "def generate_RGB_img():\n",
    "    test_img = np.zeros((16,16,3), dtype = 'int16')\n",
    "    for i in range(3):\n",
    "        for x in range(test_img[:,:,i].shape[0]):\n",
    "            for y in range(test_img[:,:,i].shape[1]):\n",
    "                test_img[x,y,i] = random.randint(0,255)\n",
    "    return test_img\n",
    "img = generate_RGB_img()"
   ]
  },
  {
   "cell_type": "code",
   "execution_count": 10,
   "id": "d6055659",
   "metadata": {},
   "outputs": [
    {
     "data": {
      "text/plain": [
       "(list,\n",
       " 12,\n",
       " array([[121,  27, 121, 166,  11, 113, 192, 152],\n",
       "        [178,  77,  51, 151, 134, 148, 230,  17],\n",
       "        [  0, 203, 156, 231, 176, 137, 140, 185],\n",
       "        [ 22,  21,  80, 213, 244,  30, 136,  73],\n",
       "        [201, 221, 249,  14, 101, 215, 138, 116],\n",
       "        [233,  55,  92, 112, 215, 226, 120,  30],\n",
       "        [ 36,  82,  63, 140, 229, 138, 205, 204],\n",
       "        [212, 252,   2,  13,  79,  33, 179,  73]], dtype=int16))"
      ]
     },
     "execution_count": 10,
     "metadata": {},
     "output_type": "execute_result"
    }
   ],
   "source": [
    "# print(img)\n",
    "blocks = []\n",
    "heigth_index = img.shape[0]//8\n",
    "weight_index = img.shape[1]//8\n",
    "for k in range(3):\n",
    "    for i in range(heigth_index):\n",
    "        for j in  range(weight_index):\n",
    "            blocks.append(img[i*8:(i+1)*8, j*8:(j+1)*8, k])\n",
    "type(blocks), len(blocks),blocks[0]"
   ]
  },
  {
   "cell_type": "code",
   "execution_count": null,
   "id": "d9530d77",
   "metadata": {},
   "outputs": [],
   "source": [
    "def DC_coefficient(DC_pre, DC):\n",
    "    dif = DC_pre - DC\n",
    "    cat = 0\n",
    "    if dif ==0:\n",
    "        cat = 0\n",
    "    else:\n",
    "        cat = m.ceil(m.log2(dif))\n",
    "    pos = 1 if dif>0 else 0\n",
    "    "
   ]
  },
  {
   "cell_type": "code",
   "execution_count": 11,
   "id": "7e02d0c0",
   "metadata": {},
   "outputs": [],
   "source": [
    "# idol code belike:\n",
    "#     find the DC coefficient leftover of 2 nearby block\n",
    "#     then find the right place of it on the table, create bit sequence\n",
    "#     bit sequence decided base on:\n",
    "#         cat/category: check the table pls\n",
    "#         sign(negative): true = 1 false = 0\n",
    "#         len: len of bits\n",
    "def huffman_encoding(blocks):\n",
    "    #firstBlocks\n",
    "    block_zero = np.zeros((8,8), dtype = 'int16')\n",
    "    "
   ]
  },
  {
   "cell_type": "code",
   "execution_count": 22,
   "id": "2512634e",
   "metadata": {},
   "outputs": [
    {
     "data": {
      "text/plain": [
       "6"
      ]
     },
     "execution_count": 22,
     "metadata": {},
     "output_type": "execute_result"
    }
   ],
   "source": [
    "#test-ting purpose\n",
    "m.ceil(m.log2(33))"
   ]
  }
 ],
 "metadata": {
  "kernelspec": {
   "display_name": "Python 3",
   "language": "python",
   "name": "python3"
  },
  "language_info": {
   "codemirror_mode": {
    "name": "ipython",
    "version": 3
   },
   "file_extension": ".py",
   "mimetype": "text/x-python",
   "name": "python",
   "nbconvert_exporter": "python",
   "pygments_lexer": "ipython3",
   "version": "3.8.8"
  }
 },
 "nbformat": 4,
 "nbformat_minor": 5
}
