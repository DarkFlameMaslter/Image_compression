{
 "cells": [
  {
   "cell_type": "code",
   "execution_count": 1,
   "id": "fc2789d2",
   "metadata": {},
   "outputs": [],
   "source": [
    "import numpy as np\n",
    "import math as m"
   ]
  },
  {
   "cell_type": "code",
   "execution_count": 2,
   "id": "43fb1846",
   "metadata": {},
   "outputs": [],
   "source": [
    "import random\n",
    "def generate_RGB_img():\n",
    "    test_img = np.zeros((16,16,3), dtype = 'int16')\n",
    "    for i in range(3):\n",
    "        for x in range(test_img[:,:,i].shape[0]):\n",
    "            for y in range(test_img[:,:,i].shape[1]):\n",
    "                test_img[x,y,i] = random.randint(0,255)\n",
    "    return test_img\n",
    "img = generate_RGB_img()"
   ]
  },
  {
   "cell_type": "code",
   "execution_count": 12,
   "id": "d6055659",
   "metadata": {},
   "outputs": [
    {
     "data": {
      "text/plain": [
       "(list,\n",
       " 12,\n",
       " array([[ 36, 225,  69,  73, 224, 237,  91, 149],\n",
       "        [251,  13, 112,  95,  30, 126,  34,  38],\n",
       "        [ 14, 201, 197, 252,  28,  29,  23, 243],\n",
       "        [135,  88, 221, 196,  14, 202, 173, 155],\n",
       "        [187, 164,  91, 225,  37,  20, 178, 179],\n",
       "        [ 33, 152, 212,  63, 242, 134, 245,  58],\n",
       "        [145, 129, 186, 244,  58,  66, 203,  68],\n",
       "        [251,  37, 245, 112,  11, 173,   1,  10]], dtype=int16))"
      ]
     },
     "execution_count": 12,
     "metadata": {},
     "output_type": "execute_result"
    }
   ],
   "source": [
    "# print(img)\n",
    "blocks = []\n",
    "heigth_index = img.shape[0]//8\n",
    "weight_index = img.shape[1]//8\n",
    "for k in range(3):\n",
    "    for i in range(heigth_index):\n",
    "        for j in  range(weight_index):\n",
    "            blocks.append(img[i*8:(i+1)*8, j*8:(j+1)*8, k])\n",
    "type(blocks), len(blocks),blocks[0]"
   ]
  },
  {
   "cell_type": "code",
   "execution_count": 10,
   "id": "2ccc197b",
   "metadata": {},
   "outputs": [],
   "source": [
    "def read_block_coef_zig_zac(block):\n",
    "    sequence =[]\n",
    "    sequence.append(block[0,0])\n",
    "    sequence.append(block[0,1])\n",
    "    sequence.append(block[1,0])\n",
    "    sequence.append(block[2,0])\n",
    "    sequence.append(block[1,1])\n",
    "    sequence.append(block[0,2])\n",
    "    sequence.append(block[0,3])\n",
    "    sequence.append(block[1,2])\n",
    "    sequence.append(block[2,1])\n",
    "    sequence.append(block[3,0])\n",
    "    sequence.append(block[4,0])\n",
    "    sequence.append(block[3,1])\n",
    "    sequence.append(block[2,2])\n",
    "    sequence.append(block[1,3])\n",
    "    sequence.append(block[0,4])\n",
    "    sequence.append(block[0,5])\n",
    "    sequence.append(block[1,4])\n",
    "    sequence.append(block[2,3])\n",
    "    sequence.append(block[3,2])\n",
    "    sequence.append(block[4,1])\n",
    "    sequence.append(block[5,0])\n",
    "    sequence.append(block[6,0])\n",
    "    sequence.append(block[5,1])\n",
    "    sequence.append(block[4,2])\n",
    "    sequence.append(block[3,3])\n",
    "    sequence.append(block[2,4])\n",
    "    sequence.append(block[1,5])\n",
    "    sequence.append(block[0,6])\n",
    "    sequence.append(block[0,7])\n",
    "    sequence.append(block[1,6])\n",
    "    sequence.append(block[2,5])\n",
    "    sequence.append(block[3,4])\n",
    "    sequence.append(block[4,3])\n",
    "    sequence.append(block[5,2])\n",
    "    sequence.append(block[6,1])\n",
    "    sequence.append(block[7,0])\n",
    "    sequence.append(block[7,1])\n",
    "    sequence.append(block[6,2])\n",
    "    sequence.append(block[5,3])\n",
    "    sequence.append(block[4,4])\n",
    "    sequence.append(block[3,5])\n",
    "    sequence.append(block[2,6])\n",
    "    sequence.append(block[1,7])\n",
    "    sequence.append(block[2,7])\n",
    "    sequence.append(block[3,6])\n",
    "    sequence.append(block[4,5])\n",
    "    sequence.append(block[5,4])\n",
    "    sequence.append(block[6,3])\n",
    "    sequence.append(block[7,2])\n",
    "    sequence.append(block[7,3])\n",
    "    sequence.append(block[6,4])\n",
    "    sequence.append(block[5,5])\n",
    "    sequence.append(block[4,6])\n",
    "    sequence.append(block[3,7])\n",
    "    sequence.append(block[4,7])\n",
    "    sequence.append(block[5,6])\n",
    "    sequence.append(block[6,5])\n",
    "    sequence.append(block[7,4])\n",
    "    sequence.append(block[7,5])\n",
    "    sequence.append(block[6,6])\n",
    "    sequence.append(block[5,7])\n",
    "    sequence.append(block[6,7])\n",
    "    sequence.append(block[7,6])\n",
    "    sequence.append(block[7,7])\n",
    "    return sequence"
   ]
  },
  {
   "cell_type": "code",
   "execution_count": 9,
   "id": "d9530d77",
   "metadata": {},
   "outputs": [],
   "source": [
    "def DC_coefficient(DC_pre, DC):\n",
    "    dif = DC_pre - DC\n",
    "    cat = 0\n",
    "    if dif ==0:\n",
    "        cat = 0\n",
    "    else:\n",
    "        cat = m.ceil(m.log2(abs(dif)))\n",
    "    pos = 1 if dif>0 else 0\n",
    "    return cat,pos"
   ]
  },
  {
   "cell_type": "code",
   "execution_count": null,
   "id": "3bfe2936",
   "metadata": {},
   "outputs": [],
   "source": [
    "def AC_coefficient(block):\n",
    "    \n",
    "    return sequence"
   ]
  },
  {
   "cell_type": "code",
   "execution_count": 5,
   "id": "7e02d0c0",
   "metadata": {},
   "outputs": [],
   "source": [
    "# idol code belike:\n",
    "#     find the DC coefficient leftover of 2 nearby block\n",
    "#     then find the right place of it on the table, create bit sequence\n",
    "#     bit sequence decided base on:\n",
    "#         cat/category: check the table pls\n",
    "#         sign(negative): true = 1 false = 0\n",
    "#         len: len of bits\n",
    "def huffman_encoding(blocks):\n",
    "    #firstBlocks\n",
    "    block_zero = np.zeros((8,8), dtype = 'int16')\n",
    "    "
   ]
  },
  {
   "cell_type": "code",
   "execution_count": 14,
   "id": "2512634e",
   "metadata": {},
   "outputs": [
    {
     "name": "stdout",
     "output_type": "stream",
     "text": [
      "64\n"
     ]
    }
   ],
   "source": [
    "#test-ting purpose\n",
    "m.ceil(m.log2(33))\n",
    "print(len(read_block_coef_zig_zac(blocks[0])))"
   ]
  }
 ],
 "metadata": {
  "kernelspec": {
   "display_name": "Python 3",
   "language": "python",
   "name": "python3"
  },
  "language_info": {
   "codemirror_mode": {
    "name": "ipython",
    "version": 3
   },
   "file_extension": ".py",
   "mimetype": "text/x-python",
   "name": "python",
   "nbconvert_exporter": "python",
   "pygments_lexer": "ipython3",
   "version": "3.8.8"
  }
 },
 "nbformat": 4,
 "nbformat_minor": 5
}
