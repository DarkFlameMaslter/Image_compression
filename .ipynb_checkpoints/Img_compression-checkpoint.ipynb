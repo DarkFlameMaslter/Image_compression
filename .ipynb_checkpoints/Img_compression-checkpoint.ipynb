{
 "cells": [
  {
   "cell_type": "code",
   "execution_count": 5,
   "id": "bdbeeed6",
   "metadata": {},
   "outputs": [],
   "source": [
    "#image compression "
   ]
  },
  {
   "cell_type": "code",
   "execution_count": 6,
   "id": "ea820bea",
   "metadata": {},
   "outputs": [],
   "source": [
    "import math as m\n",
    "import numpy as np\n"
   ]
  },
  {
   "cell_type": "code",
   "execution_count": 10,
   "id": "0208c56b",
   "metadata": {},
   "outputs": [],
   "source": [
    "test_blocks = np.asarray([[247, 250, 253, 255, 255, 254, 254, 255],\n",
    "       [247, 250, 253, 255, 255, 254, 254, 255],\n",
    "       [248, 250, 254, 255, 255, 254, 254, 255],\n",
    "       [249, 251, 254, 255, 255, 254, 254, 255],\n",
    "       [250, 252, 254, 255, 254, 254, 255, 255],\n",
    "       [251, 253, 255, 255, 254, 254, 255, 255],\n",
    "       [251, 253, 255, 255, 254, 254, 255, 255],\n",
    "       [252, 253, 255, 255, 254, 254, 255, 255]])\n",
    "test_blocks = test_blocks - 128"
   ]
  },
  {
   "cell_type": "code",
   "execution_count": 11,
   "id": "b39d0d7b",
   "metadata": {},
   "outputs": [
    {
     "name": "stdout",
     "output_type": "stream",
     "text": [
      "[[119 122 125 127 127 126 126 127]\n",
      " [119 122 125 127 127 126 126 127]\n",
      " [120 122 126 127 127 126 126 127]\n",
      " [121 123 126 127 127 126 126 127]\n",
      " [122 124 126 127 126 126 127 127]\n",
      " [123 125 127 127 126 126 127 127]\n",
      " [123 125 127 127 126 126 127 127]\n",
      " [124 125 127 127 126 126 127 127]]\n"
     ]
    }
   ],
   "source": [
    "print(test_blocks)"
   ]
  },
  {
   "cell_type": "code",
   "execution_count": null,
   "id": "0b9d1cbf",
   "metadata": {},
   "outputs": [],
   "source": [
    "QM = np.asarray([[16 ,11 ,10 ,16 ,24 ,40 ,51 ,61],\n",
    "       [12 ,12 ,14 ,19 ,26 ,58 ,60 ,55],\n",
    "       [14 ,13 ,16 ,24 ,40 ,57 ,69 ,56],\n",
    "       [14 ,17 ,22 ,29 ,51 ,87 ,80 ,62],\n",
    "       [18 ,22 ,37 ,56 ,68 ,109 ,103 ,77],\n",
    "       [24 ,35 ,55 ,64 ,81 ,104 ,113 ,92],\n",
    "       [49 ,64 ,78 ,87 ,103 ,121 ,120 ,101],\n",
    "       [72 ,92 ,95 ,98 ,112 ,100 ,103 ,99]])\n",
    "\n",
    "\n",
    "def DCT_n_Quanta(block, QM = QM):\n",
    "    N = block.shape[0]\n",
    "    new_block = np.zeros(block.shape)\n",
    "    # print('test: ' + str(block.shape))\n",
    "    for v in range(N):\n",
    "        for u in range(N):\n",
    "            temp = 0\n",
    "            for x in range(N):\n",
    "                for y in range(N):\n",
    "                    a = m.cos((2*x +1)*u / 16 )\n",
    "                    b = m.cos((2*y +1)*v / 16 )\n",
    "                    temp = temp + (block[x,y]*a*b)\n",
    "            Cv = m.sqrt(1/2) if v == 0 else 1\n",
    "            Cu = m.sqrt(1/2) if v == 0 else 1\n",
    "            new_block[v,u] = temp*Cv*Cu*(1/4)\n",
    "            new_block = new_block//QM[v,u]\n",
    "    return new_block"
   ]
  },
  {
   "cell_type": "code",
   "execution_count": null,
   "id": "0e4235b9",
   "metadata": {},
   "outputs": [],
   "source": []
  }
 ],
 "metadata": {
  "kernelspec": {
   "display_name": "Python 3",
   "language": "python",
   "name": "python3"
  },
  "language_info": {
   "codemirror_mode": {
    "name": "ipython",
    "version": 3
   },
   "file_extension": ".py",
   "mimetype": "text/x-python",
   "name": "python",
   "nbconvert_exporter": "python",
   "pygments_lexer": "ipython3",
   "version": "3.8.8"
  }
 },
 "nbformat": 4,
 "nbformat_minor": 5
}
