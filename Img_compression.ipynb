{
 "cells": [
  {
   "cell_type": "code",
   "execution_count": 5,
   "id": "bdbeeed6",
   "metadata": {},
   "outputs": [],
   "source": [
    "#image compression "
   ]
  },
  {
   "cell_type": "code",
   "execution_count": 6,
   "id": "ea820bea",
   "metadata": {},
   "outputs": [],
   "source": [
    "import math as m\n",
    "import numpy as np\n"
   ]
  },
  {
   "cell_type": "code",
   "execution_count": 23,
   "id": "0208c56b",
   "metadata": {},
   "outputs": [],
   "source": [
    "test_blocks = np.asarray([[247, 250, 253, 255, 255, 254, 254, 255],\n",
    "       [247, 250, 253, 255, 255, 254, 254, 255],\n",
    "       [248, 250, 254, 255, 255, 254, 254, 255],\n",
    "       [249, 251, 254, 255, 255, 254, 254, 255],\n",
    "       [250, 252, 254, 255, 254, 254, 255, 255],\n",
    "       [251, 253, 255, 255, 254, 254, 255, 255],\n",
    "       [251, 253, 255, 255, 254, 254, 255, 255],\n",
    "       [252, 253, 255, 255, 254, 254, 255, 255]])\n",
    "test_blocks = test_blocks - 128"
   ]
  },
  {
   "cell_type": "code",
   "execution_count": 36,
   "id": "b39d0d7b",
   "metadata": {},
   "outputs": [
    {
     "name": "stdout",
     "output_type": "stream",
     "text": [
      "[[119 122 125 127 127 126 126 127]\n",
      " [119 122 125 127 127 126 126 127]\n",
      " [120 122 126 127 127 126 126 127]\n",
      " [121 123 126 127 127 126 126 127]\n",
      " [122 124 126 127 126 126 127 127]\n",
      " [123 125 127 127 126 126 127 127]\n",
      " [123 125 127 127 126 126 127 127]\n",
      " [124 125 127 127 126 126 127 127]]\n"
     ]
    }
   ],
   "source": [
    "print(test_blocks)"
   ]
  },
  {
   "cell_type": "code",
   "execution_count": 47,
   "id": "0b9d1cbf",
   "metadata": {},
   "outputs": [],
   "source": [
    "QM = np.asarray([[16 ,11 ,10 ,16 ,24 ,40 ,51 ,61],\n",
    "       [12 ,12 ,14 ,19 ,26 ,58 ,60 ,55],\n",
    "       [14 ,13 ,16 ,24 ,40 ,57 ,69 ,56],\n",
    "       [14 ,17 ,22 ,29 ,51 ,87 ,80 ,62],\n",
    "       [18 ,22 ,37 ,56 ,68 ,109 ,103 ,77],\n",
    "       [24 ,35 ,55 ,64 ,81 ,104 ,113 ,92],\n",
    "       [49 ,64 ,78 ,87 ,103 ,121 ,120 ,101],\n",
    "       [72 ,92 ,95 ,98 ,112 ,100 ,103 ,99]])\n",
    "\n",
    "\n",
    "def DCT_n_Quanta(block, QM = QM):\n",
    "    N = block.shape[0]\n",
    "    new_block = np.zeros(block.shape, dtype = 'int')\n",
    "    output = np.zeros(block.shape, dtype = 'int')\n",
    "    # print('test: ' + str(block.shape))\n",
    "    for v in range(N):\n",
    "        for u in range(N):\n",
    "            temp = 0\n",
    "            for x in range(N):\n",
    "                for y in range(N):\n",
    "                    a = m.cos((2*x +1)*u*m.pi / 16 )\n",
    "                    b = m.cos((2*y +1)*v*m.pi / 16 )\n",
    "                    temp = temp + (block[x,y]*a*b)\n",
    "            Cv = m.sqrt(1/2) if v == 0 else 1\n",
    "            Cu = m.sqrt(1/2) if u == 0 else 1\n",
    "            new_block[v,u] = temp*Cv*Cu*(1/4)\n",
    "           \n",
    "            output[v,u] = new_block[v,u]//QM[v,u]\n",
    "    print('new blocks')\n",
    "    print(new_block)\n",
    "    return output\n",
    "\n"
   ]
  },
  {
   "cell_type": "code",
   "execution_count": 48,
   "id": "6ad4c060",
   "metadata": {},
   "outputs": [
    {
     "name": "stdout",
     "output_type": "stream",
     "text": [
      "pair: 1004 n 16\n",
      "pair: 1194 n 11\n",
      "pair: 644 n 10\n",
      "pair: 63 n 16\n",
      "pair: -275 n 24\n",
      "pair: -279 n 40\n",
      "pair: -68 n 51\n",
      "pair: 138 n 61\n",
      "pair: 1193 n 12\n",
      "pair: 1420 n 12\n",
      "pair: 766 n 14\n",
      "pair: 74 n 19\n",
      "pair: -327 n 26\n",
      "pair: -332 n 58\n",
      "pair: -81 n 60\n",
      "pair: 164 n 55\n",
      "pair: 640 n 14\n",
      "pair: 762 n 13\n",
      "pair: 410 n 16\n",
      "pair: 38 n 24\n",
      "pair: -178 n 40\n",
      "pair: -179 n 57\n",
      "pair: -44 n 69\n",
      "pair: 88 n 56\n",
      "pair: 56 n 14\n",
      "pair: 66 n 17\n",
      "pair: 33 n 22\n",
      "pair: 0 n 29\n",
      "pair: -19 n 51\n",
      "pair: -18 n 87\n",
      "pair: -4 n 80\n",
      "pair: 8 n 62\n",
      "pair: -283 n 18\n",
      "pair: -338 n 22\n",
      "pair: -185 n 37\n",
      "pair: -22 n 56\n",
      "pair: 72 n 68\n",
      "pair: 75 n 109\n",
      "pair: 18 n 103\n",
      "pair: -38 n 77\n",
      "pair: -288 n 24\n",
      "pair: -343 n 35\n",
      "pair: -188 n 55\n",
      "pair: -22 n 64\n",
      "pair: 74 n 81\n",
      "pair: 76 n 104\n",
      "pair: 18 n 113\n",
      "pair: -38 n 92\n",
      "pair: -76 n 49\n",
      "pair: -91 n 64\n",
      "pair: -51 n 78\n",
      "pair: -8 n 87\n",
      "pair: 17 n 103\n",
      "pair: 18 n 121\n",
      "pair: 4 n 120\n",
      "pair: -9 n 101\n",
      "pair: 131 n 72\n",
      "pair: 155 n 92\n",
      "pair: 82 n 95\n",
      "pair: 5 n 98\n",
      "pair: -38 n 112\n",
      "pair: -38 n 100\n",
      "pair: -9 n 103\n",
      "pair: 18 n 99\n",
      "new blocks\n",
      "[[1004 1194  644   63 -275 -279  -68  138]\n",
      " [1193 1420  766   74 -327 -332  -81  164]\n",
      " [ 640  762  410   38 -178 -179  -44   88]\n",
      " [  56   66   33    0  -19  -18   -4    8]\n",
      " [-283 -338 -185  -22   72   75   18  -38]\n",
      " [-288 -343 -188  -22   74   76   18  -38]\n",
      " [ -76  -91  -51   -8   17   18    4   -9]\n",
      " [ 131  155   82    5  -38  -38   -9   18]]\n",
      "[[ 62 108  64   3 -12  -7  -2   2]\n",
      " [ 99 118  54   3 -13  -6  -2   2]\n",
      " [ 45  58  25   1  -5  -4  -1   1]\n",
      " [  4   3   1   0  -1  -1  -1   0]\n",
      " [-16 -16  -5  -1   1   0   0  -1]\n",
      " [-12 -10  -4  -1   0   0   0  -1]\n",
      " [ -2  -2  -1  -1   0   0   0  -1]\n",
      " [  1   1   0   0  -1  -1  -1   0]]\n"
     ]
    }
   ],
   "source": [
    "DCT_test_blocks = DCT_n_Quanta(test_blocks)\n",
    "print(DCT_test_blocks)"
   ]
  },
  {
   "cell_type": "code",
   "execution_count": 40,
   "id": "b4684ddb",
   "metadata": {},
   "outputs": [],
   "source": [
    "def re_quanta(block, QM = QM):\n",
    "    output = np.zeros(block.shape, dtype = 'int')\n",
    "    for i in range(block.shape[0]):\n",
    "        for j in range(block.shape[0]):\n",
    "            output[i,j] = block[i,j]*QM[i,j]\n",
    "    return output\n"
   ]
  },
  {
   "cell_type": "code",
   "execution_count": 42,
   "id": "1e75ff88",
   "metadata": {},
   "outputs": [
    {
     "name": "stdout",
     "output_type": "stream",
     "text": [
      "[[ 992 1188  640   48 -288 -280 -102  122]\n",
      " [1188 1416  756   57 -338 -348 -120  110]\n",
      " [ 630  754  400   24 -200 -228  -69   56]\n",
      " [  56   51   22    0  -51  -87  -80    0]\n",
      " [-288 -352 -185  -56   68    0    0  -77]\n",
      " [-288 -350 -220  -64    0    0    0  -92]\n",
      " [ -98 -128  -78  -87    0    0    0 -101]\n",
      " [  72   92    0    0 -112 -100 -103    0]]\n"
     ]
    }
   ],
   "source": [
    "temp_block = re_quanta(DCT_test_blocks)\n",
    "print(temp_block)"
   ]
  },
  {
   "cell_type": "code",
   "execution_count": 49,
   "id": "98ee3247",
   "metadata": {},
   "outputs": [],
   "source": [
    "def iDCT(block):\n",
    "    output = np.zeros(block.shape, dtype = 'int')\n",
    "    for x in range(block.shape[0]):\n",
    "        for y in range(block.shape[0]):\n",
    "            temp = 0\n",
    "            for v in range(block.shape[0]):\n",
    "                for u in range(block.shape[0]):\n",
    "                    a = m.cos( (2*x+1)*u*m.pi /16)\n",
    "                    b = m.cos( (2*y+1)*v*m.pi /16)\n",
    "                    Cv = m.sqrt(1/2) if v == 0 else 1\n",
    "                    Cu = m.sqrt(1/2) if u == 0 else 1\n",
    "                    temp = temp + a*b*Cu*Cv*block[v,u]\n",
    "            output[x,y] = temp*(1/4)\n",
    "    return output"
   ]
  },
  {
   "cell_type": "code",
   "execution_count": 50,
   "id": "f8962d09",
   "metadata": {},
   "outputs": [
    {
     "name": "stdout",
     "output_type": "stream",
     "text": [
      "[[1010 1441  602  -57   21   -5  -18    8]\n",
      " [1416 1379  737 -133   71  -50   49  -33]\n",
      " [ 625  752  381  -33   -3   -9   14    5]\n",
      " [-103 -134  -26   18  -25   23  -41    5]\n",
      " [  53   75   -5  -29   43  -22   34  -18]\n",
      " [ -25  -67  -12    7  -25  -10    6   -6]\n",
      " [  -4   52   15  -23   32    6   26  -21]\n",
      " [   9  -25  -21   29  -25   19  -46   26]]\n"
     ]
    }
   ],
   "source": [
    "final_block = iDCT(temp_block)\n",
    "print(final_block)"
   ]
  }
 ],
 "metadata": {
  "kernelspec": {
   "display_name": "Python 3",
   "language": "python",
   "name": "python3"
  },
  "language_info": {
   "codemirror_mode": {
    "name": "ipython",
    "version": 3
   },
   "file_extension": ".py",
   "mimetype": "text/x-python",
   "name": "python",
   "nbconvert_exporter": "python",
   "pygments_lexer": "ipython3",
   "version": "3.8.8"
  }
 },
 "nbformat": 4,
 "nbformat_minor": 5
}
