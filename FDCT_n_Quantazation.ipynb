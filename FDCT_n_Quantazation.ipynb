{
 "cells": [
  {
   "cell_type": "code",
   "execution_count": 2,
   "id": "452a361d",
   "metadata": {},
   "outputs": [],
   "source": [
    "import math\n",
    "import numpy as np\n",
    "import cv2 as cv"
   ]
  },
  {
   "cell_type": "code",
   "execution_count": 3,
   "id": "55144022",
   "metadata": {},
   "outputs": [],
   "source": [
    "QM = np.asarray([[16 ,11 ,10 ,16 ,24 ,40 ,51 ,61],\n",
    "       [12 ,12 ,14 ,19 ,26 ,58 ,60 ,55],\n",
    "       [14 ,13 ,16 ,24 ,40 ,57 ,69 ,56],\n",
    "       [14 ,17 ,22 ,29 ,51 ,87 ,80 ,62],\n",
    "       [18 ,22 ,37 ,56 ,68 ,109 ,103 ,77],\n",
    "       [24 ,35 ,55 ,64 ,81 ,104 ,113 ,92],\n",
    "       [49 ,64 ,78 ,87 ,103 ,121 ,120 ,101],\n",
    "       [72 ,92 ,95 ,98 ,112 ,100 ,103 ,99]])"
   ]
  },
  {
   "cell_type": "code",
   "execution_count": 22,
   "id": "b2da66c4",
   "metadata": {},
   "outputs": [],
   "source": [
    "def dct_2d(block, QM = QM):\n",
    "    N = block.shape[0]\n",
    "    \n",
    "    output = np.zeros(block.shape)\n",
    "    print(block.shape)\n",
    "    for i in range(N):\n",
    "        for j in range(N):\n",
    "            #caculate FDCT\n",
    "            Sum = 0\n",
    "            \n",
    "            for k in range(N):\n",
    "                for l in range(N):\n",
    "                    Sum = Sum + ( block[k,l]*math.cos( ((2*k)+1)*(i*math.pi)/16)*math.cos( ((2*l)+1)*(j*math.pi)/16)) \n",
    "            Cu = math.sqrt(1/2) if i == 0 else 1\n",
    "            Cv = math.sqrt(1/2) if j == 0 else 1\n",
    "            Suv = (1/4)*Cu*Cv*Sum #output[i,j] be4 Quantazation\n",
    "            #quantazation\n",
    "            output[i,j] = (Suv//QM[i,j])\n",
    "    return output\n",
    "            "
   ]
  },
  {
   "cell_type": "code",
   "execution_count": 6,
   "id": "f0661695",
   "metadata": {},
   "outputs": [],
   "source": [
    "#4 testing-purpose\n",
    "import random\n",
    "def generate_RGB_img():\n",
    "    test_img = np.zeros((16,16,3), dtype = 'int16')\n",
    "    for i in range(3):\n",
    "        for x in range(test_img[:,:,i].shape[0]):\n",
    "            for y in range(test_img[:,:,i].shape[1]):\n",
    "                test_img[x,y,i] = random.randint(0,255)\n",
    "    return test_img\n",
    "img = generate_RGB_img()"
   ]
  },
  {
   "cell_type": "code",
   "execution_count": 17,
   "id": "1e7ca582",
   "metadata": {},
   "outputs": [
    {
     "name": "stdout",
     "output_type": "stream",
     "text": [
      "[[ -50  -22  -52  110    6 -116   27   70]\n",
      " [ -12   56   41   84   99   -7   34  -55]\n",
      " [  -5  -82   76   76 -101   43   76  -79]\n",
      " [ -82  -72  -65   49   22  -46  -86 -124]\n",
      " [   4   -9    9  -99  -64  -72 -118   77]\n",
      " [  75   48 -121   99  -32  114  -38   58]\n",
      " [  83  122  111  -43 -114   68  -95   36]\n",
      " [  78  101   21   27   43   71   34   30]]\n"
     ]
    }
   ],
   "source": [
    "block = img[:8,:8,0]\n",
    "# print(block)\n",
    "block_centered = block - 128\n",
    "print(block_centered) #block_centered"
   ]
  },
  {
   "cell_type": "code",
   "execution_count": 23,
   "id": "f08d01ec",
   "metadata": {},
   "outputs": [
    {
     "name": "stdout",
     "output_type": "stream",
     "text": [
      "(8, 8)\n",
      "[[ 66.   6.  -2.  -3.   1.   0.   0.  -2.]\n",
      " [ -8.  -7. -11.  -4.   2.   2.  -3.   1.]\n",
      " [ 13.   0.   1.  -2.  -1.  -1.  -2.   0.]\n",
      " [ -2.  -2.   5.  -2.   2.  -2.  -1.  -2.]\n",
      " [ -7.  -3.   0.  -1.   1.  -1.  -1.   0.]\n",
      " [ -4.   0.  -1.  -1.  -1.   0.   0.  -1.]\n",
      " [  0.  -2.   0.   0.   0.   0.  -1.  -1.]\n",
      " [ -1.   0.   1.  -2.  -1.   0.   1.   0.]]\n"
     ]
    }
   ],
   "source": [
    "output_block = dct_2d(block)\n",
    "print(output_block) #Block after DCT and quantazation"
   ]
  }
 ],
 "metadata": {
  "kernelspec": {
   "display_name": "Python 3",
   "language": "python",
   "name": "python3"
  },
  "language_info": {
   "codemirror_mode": {
    "name": "ipython",
    "version": 3
   },
   "file_extension": ".py",
   "mimetype": "text/x-python",
   "name": "python",
   "nbconvert_exporter": "python",
   "pygments_lexer": "ipython3",
   "version": "3.8.8"
  }
 },
 "nbformat": 4,
 "nbformat_minor": 5
}
